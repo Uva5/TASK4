{
  "cells": [
    {
      "cell_type": "markdown",
      "metadata": {
        "id": "EXo2Gb-ueeAK"
      },
      "source": [
        "###### Assessment"
      ]
    },
    {
      "cell_type": "markdown",
      "metadata": {
        "id": "5ansHS8GeeAN"
      },
      "source": [
        "###### I am going to provide two .csv files , you are supposed to work on them and have to provide solutions to the following problems"
      ]
    },
    {
      "cell_type": "markdown",
      "metadata": {
        "id": "GJY4YOiMeeAO"
      },
      "source": [
        "###### import necessary libraries"
      ]
    },
    {
      "cell_type": "code",
      "execution_count": null,
      "metadata": {
        "id": "ztJ2QN-ceeAO"
      },
      "outputs": [],
      "source": [
        "import pandas as pd"
      ]
    },
    {
      "cell_type": "markdown",
      "metadata": {
        "id": "3hEpWZnReeAP"
      },
      "source": [
        "###### merge those two csv files (after getting as dataframes, get them as a single dataframe)"
      ]
    },
    {
      "cell_type": "code",
      "execution_count": null,
      "metadata": {
        "id": "aQQ8aa8DeeAP"
      },
      "outputs": [],
      "source": [
        "df1 = pd.read_csv(r'college_1.csv')\n",
        "df2 = pd.read_csv(r'college_2.csv')\n",
        "\n",
        "mergedDf = pd.concat([df1, df2])\n",
        "\n",
        "print(mergedDf)"
      ]
    },
    {
      "cell_type": "markdown",
      "metadata": {
        "id": "wFEzB44KeeAP"
      },
      "source": [
        "###### Take each csv file , split that csv file into multiple categories (example csv files are added in the repo) \n"
      ]
    },
    {
      "cell_type": "markdown",
      "metadata": {
        "id": "CQRwqBvoeeAP"
      },
      "source": [
        "###### consider if the codekata score exceeds 15000 points(present week) then make a csv on those observations as Exceeded expectations.csv\n"
      ]
    },
    {
      "cell_type": "markdown",
      "metadata": {
        "id": "xoPkTCsKeeAQ"
      },
      "source": [
        "###### if  10000<codekata score<15000   (Reached_expectations.csv)\n",
        "\n"
      ]
    },
    {
      "cell_type": "markdown",
      "metadata": {
        "id": "d3ED5sryeeAQ"
      },
      "source": [
        "###### if  7000<codekata score<10000   (Needs_Improvement.csv)\n"
      ]
    },
    {
      "cell_type": "markdown",
      "metadata": {
        "id": "cpRF4f9VeeAQ"
      },
      "source": [
        "###### if  codekate score < 7000        (Unsatisfactory.csv)"
      ]
    },
    {
      "cell_type": "code",
      "execution_count": null,
      "metadata": {
        "id": "2N7O3GSpeeAQ"
      },
      "outputs": [],
      "source": [
        "splittedCsv1 = df1.groupby(df1.Department)\n",
        "splittedCsv2 = df2.groupby(df2.Department)\n"
      ]
    },
    {
      "cell_type": "code",
      "execution_count": null,
      "metadata": {
        "id": "8ccncX2BeeAQ"
      },
      "outputs": [],
      "source": [
        "exceededExpectations = mergedDf[mergedDf['CodeKata Score'] > 15000]\n",
        "# print('Exceeded Expectations')\n",
        "# print(exceededExpectations)\n",
        "exceededExpectations.to_csv('Exceeded_expectations.csv', index=False, header=True, mode='a')\n",
        "\n",
        "reachedExpectations = mergedDf[(mergedDf['CodeKata Score'] > 10000) & (mergedDf['CodeKata Score'] < 15000)]\n",
        "# print('Reached Expectations')\n",
        "# print(reachedExpectations)\n",
        "exceededExpectations.to_csv('Reached_expectations.csv', index=False, header=True, mode='a')\n",
        "\n",
        "needsImprovement = mergedDf[(mergedDf['CodeKata Score'] > 7000) & (mergedDf['CodeKata Score'] < 10000)]\n",
        "# print('Needs Improvement')\n",
        "# print(needsImprovement)\n",
        "exceededExpectations.to_csv('Needs_Improvement.csv', index=False, header=True, mode='a')\n",
        "\n",
        "unsatisfactoryResults = mergedDf[mergedDf['CodeKata Score'] < 7000]\n",
        "# print('Unsatisfactory')\n",
        "# print(unsatisfactoryResults)\n",
        "exceededExpectations.to_csv('Unsatisfactory.csv', index=False, header=True, mode='a')\n"
      ]
    },
    {
      "cell_type": "markdown",
      "metadata": {
        "id": "qweg6cmZeeAQ"
      },
      "source": [
        "###### Average of previous week geekions vs this week geekions (i.e Previous Geekions vs CodeKata Score)"
      ]
    },
    {
      "cell_type": "code",
      "execution_count": null,
      "metadata": {
        "id": "HHiGWwGqeeAR",
        "outputId": "d2852e36-43ba-4cea-ec7e-d12b2154956f",
        "colab": {
          "base_uri": "https://localhost:8080/"
        }
      },
      "outputs": [
        {
          "output_type": "stream",
          "name": "stdout",
          "text": [
            "Previous Geekions Avg:  3842.3529411764707\n",
            "CodeKata Score Avg:  4051.764705882353\n"
          ]
        }
      ],
      "source": [
        "print('Previous Geekions Avg: ', mergedDf['Previous Geekions'].mean())\n",
        "print('CodeKata Score Avg: ', mergedDf['CodeKata Score'].mean())"
      ]
    },
    {
      "cell_type": "markdown",
      "metadata": {
        "id": "gCXi_GkweeAR"
      },
      "source": [
        "###### No of students participated "
      ]
    },
    {
      "cell_type": "code",
      "execution_count": null,
      "metadata": {
        "id": "E8e6pzcgeeAR"
      },
      "outputs": [],
      "source": [
        "print('No. of students participated: ', mergedDf['Name'].count())"
      ]
    },
    {
      "cell_type": "markdown",
      "metadata": {
        "id": "LUceIE7DeeAR"
      },
      "source": [
        "\\###### #Average completion of python course or my_sql or python english or computational thinking"
      ]
    },
    {
      "cell_type": "code",
      "execution_count": null,
      "metadata": {
        "id": "FGoa2xeNeeAS"
      },
      "outputs": [],
      "source": []
    },
    {
      "cell_type": "markdown",
      "metadata": {
        "id": "1Zoi6OhbeeAS"
      },
      "source": [
        "###### rising star of the week (top 3 candidate who performed well in that particular week)"
      ]
    },
    {
      "cell_type": "code",
      "execution_count": null,
      "metadata": {
        "id": "v2bQFZSHeeAS"
      },
      "outputs": [],
      "source": []
    },
    {
      "cell_type": "markdown",
      "metadata": {
        "id": "WcvW4bt2eeAS"
      },
      "source": [
        "###### Shining stars of the week (top 3 candidates who has highest geekions)"
      ]
    },
    {
      "cell_type": "code",
      "execution_count": null,
      "metadata": {
        "id": "QycBbbmSeeAS"
      },
      "outputs": [],
      "source": []
    },
    {
      "cell_type": "markdown",
      "metadata": {
        "id": "hSXWV32ceeAT"
      },
      "source": [
        "###### Department wise codekata performence (pie chart)"
      ]
    },
    {
      "cell_type": "code",
      "execution_count": null,
      "metadata": {
        "id": "aC8QuAZmeeAT",
        "outputId": "54a88a5e-37d0-40b9-d7bb-8a64e5a1f983",
        "colab": {
          "base_uri": "https://localhost:8080/",
          "height": 265
        }
      },
      "outputs": [
        {
          "output_type": "execute_result",
          "data": {
            "text/plain": [
              "<matplotlib.axes._subplots.AxesSubplot at 0x7ff5d71b6580>"
            ]
          },
          "metadata": {},
          "execution_count": 57
        },
        {
          "output_type": "display_data",
          "data": {
            "text/plain": [
              "<Figure size 432x288 with 1 Axes>"
            ],
            "image/png": "[encoded data removed]"
          },
          "metadata": {}
        }
      ],
      "source": [
        "mergedDf.groupby(['Department']).sum().plot(kind='pie', y='CodeKata Score')"
      ]
    },
    {
      "cell_type": "markdown",
      "metadata": {
        "id": "wVV3fNaKeeAT"
      },
      "source": [
        "###### Department wise toppers (horizantal bar graph or any visual representations of your choice)"
      ]
    },
    {
      "cell_type": "code",
      "execution_count": null,
      "metadata": {
        "id": "WMcTC1tbeeAT"
      },
      "outputs": [],
      "source": [
        "DToppers = mergedDf.loc[mergedDf.groupby(['Department'])['CodeKata Score'].idxmax()]\n",
        "DToppers.plot(x='Name', y='CodeKata Score', kind='bar', title='Department wise toppers')"
      ]
    },
    {
      "cell_type": "code",
      "execution_count": null,
      "metadata": {
        "id": "0KUDOzCyeeAT"
      },
      "outputs": [],
      "source": []
    },
    {
      "cell_type": "code",
      "execution_count": null,
      "metadata": {
        "id": "3nPsWRt0eeAU"
      },
      "outputs": [],
      "source": []
    },
    {
      "cell_type": "code",
      "execution_count": null,
      "metadata": {
        "id": "vtaEQY5seeAU"
      },
      "outputs": [],
      "source": []
    }
  ],
  "metadata": {
    "kernelspec": {
      "display_name": "Python 3",
      "language": "python",
      "name": "python3"
    },
    "language_info": {
      "codemirror_mode": {
        "name": "ipython",
        "version": 3
      },
      "file_extension": ".py",
      "mimetype": "text/x-python",
      "name": "python",
      "nbconvert_exporter": "python",
      "pygments_lexer": "ipython3",
      "version": "3.8.3"
    },
    "colab": {
      "provenance": []
    }
  },
  "nbformat": 4,
  "nbformat_minor": 0
}